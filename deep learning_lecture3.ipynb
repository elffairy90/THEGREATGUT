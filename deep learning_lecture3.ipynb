{
  "nbformat": 4,
  "nbformat_minor": 0,
  "metadata": {
    "colab": {
      "name": "Untitled0.ipynb",
      "provenance": [],
      "authorship_tag": "ABX9TyM1ZnymHCPxwdk3hTQgLA4Y",
      "include_colab_link": true
    },
    "kernelspec": {
      "name": "python3",
      "display_name": "Python 3"
    },
    "language_info": {
      "name": "python"
    }
  },
  "cells": [
    {
      "cell_type": "markdown",
      "metadata": {
        "id": "view-in-github",
        "colab_type": "text"
      },
      "source": [
        "<a href=\"https://colab.research.google.com/github/elffairy90/THEGREATGUT/blob/master/deep%20learning_lecture3.ipynb\" target=\"_parent\"><img src=\"https://colab.research.google.com/assets/colab-badge.svg\" alt=\"Open In Colab\"/></a>"
      ]
    },
    {
      "cell_type": "code",
      "metadata": {
        "id": "qrVf_lbK-ISB"
      },
      "source": [
        "import tensorflow as tf\n",
        "\n",
        "def generate_model ():\n",
        "  model = tf.keras.Seqeuential([\n",
        "                                #first convolutional layer\n",
        "                                tf.keras.layers.Conv2D (32, filter_size = 3, activation = 'relu'),\n",
        "                                tf.keras.layers.MaxPool2D(pool_size = 2, strides = 2),\n",
        "                                #s second convolutional layer\n",
        "                                tf.keras.layers.Conv2D (64, filter_size = 3, activation = 'relu'),\n",
        "                                tf.keras.layers.MaxPool2D (pool_size = 2, strides = 2),\n",
        "\n",
        "                                # fully connected classifier\n",
        "                                tf.keras.layers.Flattern (),\n",
        "                                tf.keras.layers.Dense (1024, activation = 'relu'),\n",
        "                                tf.keras.layers.Dense(10, activation = 'softmax')\n",
        "                                \n",
        "  ])\n",
        "  return model"
      ],
      "execution_count": 3,
      "outputs": []
    }
  ]
}